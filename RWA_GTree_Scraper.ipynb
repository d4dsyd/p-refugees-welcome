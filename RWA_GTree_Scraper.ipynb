{
 "cells": [
  {
   "cell_type": "code",
   "execution_count": 1,
   "metadata": {},
   "outputs": [
    {
     "name": "stdout",
     "output_type": "stream",
     "text": [
      "<type 'list'>\n",
      "   No_of_rooms Type_of_Department\n",
      "11          19         1 Bedroom \n",
      "12          14        2 Bedrooms \n",
      "13           9        3 Bedrooms \n",
      "14           4        4 Bedrooms \n"
     ]
    }
   ],
   "source": [
    "import urllib2\n",
    "from bs4 import BeautifulSoup\n",
    "from selenium import webdriver\n",
    "import pandas as pd\n",
    "import numpy as np\n",
    "import re\n",
    "\n",
    "\n",
    "#Use selenium to execute the javascript and scrape the data\n",
    "driver = webdriver.Chrome()\n",
    "driver.get(\"https://www.gumtree.com.au/s-flatshare-houseshare/granville-sydney/c18294l3003933?sort=rank\")\n",
    "\n",
    "\n",
    "soup = BeautifulSoup(driver.page_source, 'lxml')\n",
    "\n",
    "g_data = soup.findAll('a',{'class':'srp-list-filter__item-link link link--no-underline'})\n",
    "\n",
    "Total_rooms=[]\n",
    "for match in g_data:\n",
    "    Total_rooms.append(match.text)\n",
    "    \n",
    "\n",
    "print type(Total_rooms)\n",
    "df = pd.DataFrame(np.array(Total_rooms))\n",
    "df.columns=[\"RawData\"]\n",
    "\n",
    "df['No_of_rooms']=df['RawData'].str.replace(r'[^(]*\\(|\\)[^)]*', '')\n",
    "\n",
    "df['Type_of_Department']=df['RawData'].str.replace(r\"\\(.*\\)\",\"\")\n",
    "\n",
    "#df[df['RawData'].str.contains('Bedroom',na = False)]\n",
    "\n",
    "\n",
    "\n",
    "Final_df=df[df['RawData'].str.contains('Bedroom',na = False)]\n",
    "\n",
    "del Final_df['RawData']\n",
    "\n",
    "Final_df.set_index('No_of_rooms')\n",
    "\n",
    "print Final_df\n"
   ]
  }
 ],
 "metadata": {
  "kernelspec": {
   "display_name": "Python 2",
   "language": "python",
   "name": "python2"
  },
  "language_info": {
   "codemirror_mode": {
    "name": "ipython",
    "version": 2
   },
   "file_extension": ".py",
   "mimetype": "text/x-python",
   "name": "python",
   "nbconvert_exporter": "python",
   "pygments_lexer": "ipython2",
   "version": "2.7.13"
  }
 },
 "nbformat": 4,
 "nbformat_minor": 2
}
