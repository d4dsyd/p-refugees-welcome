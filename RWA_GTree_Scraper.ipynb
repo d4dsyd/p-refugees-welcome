{
 "cells": [
  {
   "cell_type": "markdown",
   "metadata": {},
   "source": [
    "# #The first Function RoomCountGumTreeScraper performs the scrap"
   ]
  },
  {
   "cell_type": "code",
   "execution_count": 58,
   "metadata": {
    "collapsed": true
   },
   "outputs": [],
   "source": [
    "def RoomCountGumTreeScraper(x,counter):\n",
    "\n",
    "    #Import all the prerequiste libraries\n",
    "    \n",
    "    import urllib2\n",
    "    from bs4 import BeautifulSoup\n",
    "    from selenium import webdriver\n",
    "    import pandas as pd\n",
    "    import numpy as np\n",
    "    import re\n",
    "    #The below librarirs are used to write the dataframe to a google sheet which \n",
    "    #will then be linked to through the open data site\n",
    "    import datetime\n",
    "\n",
    "    #Use selenium to execute the javascript and scrape the data\n",
    "    driver = webdriver.Chrome()\n",
    "    driver.get(x)\n",
    "    \n",
    "    #Use BeautifulSoup to parse the webpage\n",
    "    soup = BeautifulSoup(driver.page_source, 'lxml')\n",
    "    \n",
    "    #Search the elements where links are present\n",
    "    #In Gumetre to the left side of the page the total nunber of rooms for the searched suburub is always diplayed\n",
    "    #Have scraped the data from there\n",
    "    \n",
    "    g_data = soup.findAll('a',{'class':'srp-list-filter__item-link link link--no-underline'})\n",
    "\n",
    "    #initialise total_rooms\n",
    "    Total_rooms=[]\n",
    "    for match in g_data:\n",
    "        Total_rooms.append(match.text)\n",
    "\n",
    "\n",
    "    \n",
    "    df = pd.DataFrame(np.array(Total_rooms))\n",
    "    df.columns=[\"RawData\"]\n",
    "    #If you want to view the Rawdata just print the above df\n",
    "    \n",
    "    \n",
    "    #The actual number of rooms within the parenthesis is extracted\n",
    "    df['No_of_rooms']=df['RawData'].str.replace(r'[^(]*\\(|\\)[^)]*', '')\n",
    "    \n",
    "    #Extract the type of room basically exclude everything after a parenthesis is detected\n",
    "    df['Type_of_Department']=df['RawData'].str.replace(r\"\\(.*\\)\",\"\")\n",
    "\n",
    "\n",
    "\n",
    "    Final_df=df[df['RawData'].str.contains('Bedroom',na = False)]\n",
    "\n",
    "    del Final_df['RawData']\n",
    "    Final_df[\"Capture_Time\"]=datetime.datetime.now()\n",
    "    Final_df.set_index('No_of_rooms')\n",
    "\n",
    "    DFtoGoogleSheet(Final_df,counter)\n",
    "\n"
   ]
  },
  {
   "cell_type": "markdown",
   "metadata": {},
   "source": [
    "# #The function DFtoGoogleSheet used this to transfer to the Google Doc"
   ]
  },
  {
   "cell_type": "code",
   "execution_count": 62,
   "metadata": {},
   "outputs": [],
   "source": [
    "def DFtoGoogleSheet(DftobeTransferred,counter):\n",
    "    import gspread\n",
    "    from oauth2client.service_account import ServiceAccountCredentials\n",
    "    from gspread_dataframe import get_as_dataframe, set_with_dataframe\n",
    "\n",
    "    # use creds to create a client to interact with the Google Drive API\n",
    "    scope = ['https://spreadsheets.google.com/feeds']\n",
    "    creds = ServiceAccountCredentials.from_json_keyfile_name('client_secret.json', scope)\n",
    "    client = gspread.authorize(creds) \n",
    "    \n",
    "    #Open Sesame!\n",
    "    if (counter == 1): \n",
    "        sheet = client.open(\"RWA_InnerWest\").get_worksheet(0)\n",
    "    elif (counter == 2):\n",
    "        sheet = client.open(\"RWA_InnerWest\").get_worksheet(1)\n",
    "    else:\n",
    "        sheet = client.open(\"RWA_InnerWest\").get_worksheet(2)\n",
    "\n",
    "    #Write DataFrame to Sheet    \n",
    "    set_with_dataframe(sheet, DftobeTransferred)\n",
    "\n"
   ]
  },
  {
   "cell_type": "markdown",
   "metadata": {},
   "source": [
    "# The main function that calls the above to perform the scraping,the list of suburb urls are present in the list below:"
   ]
  },
  {
   "cell_type": "code",
   "execution_count": 68,
   "metadata": {},
   "outputs": [
    {
     "name": "stdout",
     "output_type": "stream",
     "text": [
      "The suburb url in consderation is https://www.gumtree.com.au/s-flatshare-houseshare/granville-sydney/c18294l3003933?sort=rank\n",
      "the counter is  1\n",
      "<type 'list'>\n"
     ]
    },
    {
     "name": "stderr",
     "output_type": "stream",
     "text": [
      "C:\\Users\\sidha\\Anaconda2\\lib\\site-packages\\ipykernel_launcher.py:51: SettingWithCopyWarning: \n",
      "A value is trying to be set on a copy of a slice from a DataFrame.\n",
      "Try using .loc[row_indexer,col_indexer] = value instead\n",
      "\n",
      "See the caveats in the documentation: http://pandas.pydata.org/pandas-docs/stable/indexing.html#indexing-view-versus-copy\n"
     ]
    },
    {
     "name": "stdout",
     "output_type": "stream",
     "text": [
      "The suburb url in consderation is https://www.gumtree.com.au/s-flatshare-houseshare/sydney/parramatta/k0c18294l3003435?sort=rank\n",
      "the counter is  2\n",
      "<type 'list'>\n",
      "The suburb url in consderation is https://www.gumtree.com.au/s-flatshare-houseshare/sydney/newtown/k0c18294l3003435?sort=rank\n",
      "the counter is  3\n",
      "<type 'list'>\n"
     ]
    }
   ],
   "source": [
    "#The main execution of the py script\n",
    "\n",
    "links_of_suburbs=(\"https://www.gumtree.com.au/s-flatshare-houseshare/granville-sydney/c18294l3003933?sort=rank\",\"https://www.gumtree.com.au/s-flatshare-houseshare/sydney/parramatta/k0c18294l3003435?sort=rank\",\"https://www.gumtree.com.au/s-flatshare-houseshare/sydney/newtown/k0c18294l3003435?sort=rank\")\n",
    "\n",
    "counter=1\n",
    "for x in links_of_suburbs:\n",
    "    print \"The suburb url in consderation is\",x\n",
    "    print \"the counter is \",counter\n",
    "    RoomCountGumTreeScraper(x,counter)\n",
    "    counter=counter+1\n",
    "    \n",
    "\n",
    "\n",
    "    "
   ]
  }
 ],
 "metadata": {
  "kernelspec": {
   "display_name": "Python 2",
   "language": "python",
   "name": "python2"
  },
  "language_info": {
   "codemirror_mode": {
    "name": "ipython",
    "version": 2
   },
   "file_extension": ".py",
   "mimetype": "text/x-python",
   "name": "python",
   "nbconvert_exporter": "python",
   "pygments_lexer": "ipython2",
   "version": "2.7.13"
  }
 },
 "nbformat": 4,
 "nbformat_minor": 2
}
